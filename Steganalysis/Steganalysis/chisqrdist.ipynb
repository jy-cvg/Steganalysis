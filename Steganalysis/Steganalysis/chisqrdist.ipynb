{
 "cells": [
  {
   "cell_type": "code",
   "execution_count": 35,
   "metadata": {},
   "outputs": [],
   "source": [
    "#freq of each 0's,(black) 1's ...255's(white) is plotted\n",
    "from cv2 import cv2\n",
    "import numpy as np\n",
    "import matplotlib.pyplot as plt\n",
    "from math import log10"
   ]
  },
  {
   "cell_type": "code",
   "execution_count": 88,
   "metadata": {},
   "outputs": [
    {
     "name": "stdout",
     "output_type": "stream",
     "text": [
      "(600, 800, 3)\n"
     ]
    }
   ],
   "source": [
    "img_post=cv2.imread('./pup.jpg')\n",
    "img_post_stego=cv2.imread('./pvd6_img.png')\n",
    "\n",
    "img_post=cv2.resize(img_post, (800,600))\n",
    "img_post_stego=cv2.resize(img_post_stego, (800,600))\n",
    "print(img_post.shape) # 600 rows, 800 cols, 3 channels"
   ]
  },
  {
   "cell_type": "code",
   "execution_count": 89,
   "metadata": {},
   "outputs": [
    {
     "name": "stdout",
     "output_type": "stream",
     "text": [
      "(600, 800)\n"
     ]
    }
   ],
   "source": [
    "#converting the img into binary\n",
    "img_gray=cv2.cvtColor(img_post, cv2.COLOR_BGR2GRAY)\n",
    "\n",
    "img_gray_stego=cv2.cvtColor(img_post_stego, cv2.COLOR_BGR2GRAY)\n",
    "\n",
    "print(img_gray.shape)\n",
    "\n",
    "#enhancing the whites to be lighter and the greys to darker\n",
    "#img_gray=cv2.convertScaleAbs(img_gray, alpha=1.10, beta=-20) #alpha is contrast, beta is brightness\n",
    "#img_gray_stego=cv2.convertScaleAbs(img_gray, alpha=1.10, beta=-20)"
   ]
  },
  {
   "cell_type": "code",
   "execution_count": 90,
   "metadata": {},
   "outputs": [],
   "source": [
    "#creating a numpy array of 0s\n",
    "arr=np.zeros(shape=(256,1))\n",
    "rows=img_post.shape[0]\n",
    "cols=img_post.shape[1]\n",
    "for i in range(rows):\n",
    "  for j in range(cols):\n",
    "    #read kth position and add 1 in it\n",
    "    k=img_gray[i,j]\n",
    "    arr[k,0]=arr[k,0]+1\n",
    "\n",
    "\n",
    "#we get total no of values for each pixel in the image in normal image\n",
    "#print(arr)"
   ]
  },
  {
   "cell_type": "code",
   "execution_count": 91,
   "metadata": {},
   "outputs": [],
   "source": [
    "#for stego image\n",
    "arr_stego=np.zeros(shape=(256,1))\n",
    "for i in range(rows):\n",
    "  for j in range(cols):\n",
    "    #read kth position and add 1 in it\n",
    "    k=img_gray_stego[i,j]\n",
    "    arr_stego[k,0]=arr_stego[k,0]+1\n",
    "\n",
    "#we get total no of values for each pixel in the image in normal image\n",
    "#print(arr_stego)"
   ]
  },
  {
   "cell_type": "code",
   "execution_count": 92,
   "metadata": {},
   "outputs": [],
   "source": [
    "# plt.plot(arr)\n",
    "# plt.title(\"Histogram for cover image\")\n",
    "# plt.xlabel(\"Pixel value\")\n",
    "# plt.ylabel(\"Frequency of occurance\")\n",
    "# plt.show()"
   ]
  },
  {
   "cell_type": "code",
   "execution_count": 93,
   "metadata": {},
   "outputs": [],
   "source": [
    "# plt.plot(arr_stego)\n",
    "# plt.title(\"Histogram for stego image created by Edge detection based algorithm\")\n",
    "# plt.xlabel(\"Pixel value\")\n",
    "# plt.ylabel(\"Frequency of occurance\")\n",
    "# plt.show()"
   ]
  },
  {
   "cell_type": "code",
   "execution_count": 94,
   "metadata": {},
   "outputs": [],
   "source": [
    "#finding the difference between the 2 frequency arrays\n",
    "diff_arr=arr-arr_stego\n",
    "diff_arr=np.round(diff_arr, 2)\n",
    "\n",
    "#minr=abs(math.floor(np.amin(diff_arr)))\n",
    "#maxr=abs(math.floor(np.amax(diff_arr))) \n",
    "\n",
    "#freq_diff=np.zeros(shape=(minr,maxr))\n",
    "#creating histogram of difference\n",
    "#for i in range(diff_arr.shape[0]):\n",
    "#  k=diff_arr[i]\n",
    "#  k=math.floor(k)\n",
    "#  k=abs(k)\n",
    "#  freq_diff[k,0]=freq_diff[k,0]+1\n",
    "\n",
    "# plt.plot(diff_arr)\n",
    "# plt.title(\"Difference plot for Edge detection based algorithm\")\n",
    "# plt.xlabel(\"Color coordinate\")\n",
    "# plt.ylabel(\"Frequency of pixel difference\")\n",
    "#plt.show()\n",
    "#print(diff_arr)"
   ]
  },
  {
   "cell_type": "code",
   "execution_count": 95,
   "metadata": {},
   "outputs": [
    {
     "name": "stdout",
     "output_type": "stream",
     "text": [
      "0.55859375\n"
     ]
    }
   ],
   "source": [
    "#print(len(diff_arr))\n",
    "#print(diff_arr)\n",
    "diff_arr_lst = []\n",
    "for i in diff_arr:\n",
    "    k = int(i)\n",
    "    if (k < -10) or (k > 10):\n",
    "        diff_arr_lst.append(int(i))\n",
    "\n",
    "print(len(diff_arr_lst)/256)\n",
    "#print(diff_arr_lst)"
   ]
  },
  {
   "cell_type": "code",
   "execution_count": 96,
   "metadata": {},
   "outputs": [
    {
     "name": "stdout",
     "output_type": "stream",
     "text": [
      "8\n"
     ]
    }
   ],
   "source": [
    "count_pairs=0\n",
    "\n",
    "for i in range(diff_arr.shape[0]-1):\n",
    "  p1=diff_arr[i]\n",
    "  p2=diff_arr[i+1]\n",
    "  if(p1 != p2 and p1==abs(p2)):\n",
    "    count_pairs=count_pairs+1\n",
    "  \n",
    "print(count_pairs)"
   ]
  },
  {
   "cell_type": "code",
   "execution_count": 97,
   "metadata": {},
   "outputs": [
    {
     "name": "stdout",
     "output_type": "stream",
     "text": [
      "[0.05801388]\n"
     ]
    }
   ],
   "source": [
    "#CHI SQUARE DISTANCE sum((p-q)^2/(p+q)^2) from 1 to 256\n",
    "\n",
    "dist=0\n",
    "\n",
    "for i in range(arr.shape[0]):\n",
    "  p=arr[i]\n",
    "  q=arr_stego[i]\n",
    "  if(p+q!=0):\n",
    "    dist=dist+(pow((p-q),2))/(pow((p+q),2))\n",
    "\n",
    "print(dist)\n",
    "\n",
    "#if dist > 0.5 then stego?"
   ]
  },
  {
   "cell_type": "code",
   "execution_count": 62,
   "metadata": {},
   "outputs": [
    {
     "ename": "TypeError",
     "evalue": "unsupported operand type(s) for -: 'int' and 'NoneType'",
     "output_type": "error",
     "traceback": [
      "\u001b[0;31m---------------------------------------------------------------------------\u001b[0m",
      "\u001b[0;31mTypeError\u001b[0m                                 Traceback (most recent call last)",
      "\u001b[0;32m/tmp/ipykernel_275971/2989258409.py\u001b[0m in \u001b[0;36m<module>\u001b[0;34m\u001b[0m\n\u001b[1;32m      7\u001b[0m \u001b[0mstego_image\u001b[0m \u001b[0;34m=\u001b[0m \u001b[0mcv2\u001b[0m\u001b[0;34m.\u001b[0m\u001b[0mimread\u001b[0m\u001b[0;34m(\u001b[0m\u001b[0;34m\"./rev2_img.pngpvd2_img.png\"\u001b[0m\u001b[0;34m,\u001b[0m\u001b[0;36m0\u001b[0m\u001b[0;34m)\u001b[0m\u001b[0;34m\u001b[0m\u001b[0;34m\u001b[0m\u001b[0m\n\u001b[1;32m      8\u001b[0m \u001b[0morignal_image\u001b[0m \u001b[0;34m=\u001b[0m  \u001b[0mcv2\u001b[0m\u001b[0;34m.\u001b[0m\u001b[0mimread\u001b[0m\u001b[0;34m(\u001b[0m\u001b[0;34m\"./pup.jpg\"\u001b[0m\u001b[0;34m,\u001b[0m\u001b[0;36m0\u001b[0m\u001b[0;34m)\u001b[0m\u001b[0;34m\u001b[0m\u001b[0;34m\u001b[0m\u001b[0m\n\u001b[0;32m----> 9\u001b[0;31m \u001b[0mres\u001b[0m \u001b[0;34m=\u001b[0m \u001b[0mcalc_PSNR\u001b[0m\u001b[0;34m(\u001b[0m\u001b[0mstego_image\u001b[0m\u001b[0;34m,\u001b[0m\u001b[0morignal_image\u001b[0m\u001b[0;34m)\u001b[0m\u001b[0;34m\u001b[0m\u001b[0;34m\u001b[0m\u001b[0m\n\u001b[0m\u001b[1;32m     10\u001b[0m \u001b[0mprint\u001b[0m\u001b[0;34m(\u001b[0m\u001b[0;34mf\"PSNR value is {res} dB\"\u001b[0m\u001b[0;34m)\u001b[0m\u001b[0;34m\u001b[0m\u001b[0;34m\u001b[0m\u001b[0m\n",
      "\u001b[0;32m/tmp/ipykernel_275971/2989258409.py\u001b[0m in \u001b[0;36mcalc_PSNR\u001b[0;34m(stego_image, orignal_image)\u001b[0m\n\u001b[1;32m      1\u001b[0m \u001b[0;32mdef\u001b[0m \u001b[0mcalc_PSNR\u001b[0m\u001b[0;34m(\u001b[0m\u001b[0mstego_image\u001b[0m\u001b[0;34m,\u001b[0m \u001b[0morignal_image\u001b[0m\u001b[0;34m)\u001b[0m\u001b[0;34m:\u001b[0m\u001b[0;34m\u001b[0m\u001b[0;34m\u001b[0m\u001b[0m\n\u001b[0;32m----> 2\u001b[0;31m     \u001b[0mmse\u001b[0m \u001b[0;34m=\u001b[0m \u001b[0mnp\u001b[0m\u001b[0;34m.\u001b[0m\u001b[0mmean\u001b[0m\u001b[0;34m(\u001b[0m\u001b[0;34m(\u001b[0m\u001b[0morignal_image\u001b[0m \u001b[0;34m-\u001b[0m \u001b[0mstego_image\u001b[0m\u001b[0;34m)\u001b[0m\u001b[0;34m**\u001b[0m\u001b[0;36m2\u001b[0m\u001b[0;34m)\u001b[0m\u001b[0;34m\u001b[0m\u001b[0;34m\u001b[0m\u001b[0m\n\u001b[0m\u001b[1;32m      3\u001b[0m     \u001b[0mmaxi_pix\u001b[0m \u001b[0;34m=\u001b[0m \u001b[0;36m255\u001b[0m\u001b[0;34m*\u001b[0m\u001b[0;36m255\u001b[0m\u001b[0;34m\u001b[0m\u001b[0;34m\u001b[0m\u001b[0m\n\u001b[1;32m      4\u001b[0m     \u001b[0mpsnr_value\u001b[0m \u001b[0;34m=\u001b[0m \u001b[0;36m10\u001b[0m\u001b[0;34m*\u001b[0m\u001b[0mlog10\u001b[0m\u001b[0;34m(\u001b[0m\u001b[0mmaxi_pix\u001b[0m\u001b[0;34m/\u001b[0m\u001b[0mmse\u001b[0m\u001b[0;34m)\u001b[0m\u001b[0;34m\u001b[0m\u001b[0;34m\u001b[0m\u001b[0m\n\u001b[1;32m      5\u001b[0m     \u001b[0;32mreturn\u001b[0m \u001b[0mpsnr_value\u001b[0m\u001b[0;34m\u001b[0m\u001b[0;34m\u001b[0m\u001b[0m\n",
      "\u001b[0;31mTypeError\u001b[0m: unsupported operand type(s) for -: 'int' and 'NoneType'"
     ]
    }
   ],
   "source": [
    "def calc_PSNR(stego_image, orignal_image):\n",
    "    mse = np.mean((orignal_image - stego_image)**2)\n",
    "    maxi_pix = 255*255\n",
    "    psnr_value = 10*log10(maxi_pix/mse)\n",
    "    return psnr_value\n",
    "\n",
    "stego_image = cv2.imread(\"./rev2_imgevd2_img.png_img.pngpvd2_img.png\",0)\n",
    "orignal_image =  cv2.imread(\"./pup.jpg\",0)\n",
    "res = calc_PSNR(stego_image,orignal_image)\n",
    "print(f\"PSNR value is {res} dB\")"
   ]
  },
  {
   "cell_type": "code",
   "execution_count": null,
   "metadata": {},
   "outputs": [],
   "source": [
    "rev2_img.png, edg2_img.png"
   ]
  }
 ],
 "metadata": {
  "interpreter": {
   "hash": "2df03a46ba34d34bcfe0d8e6af5722b6891394392cd1b8bb8a82a6559cfddb36"
  },
  "kernelspec": {
   "display_name": "Python 3.8.10 64-bit ('Steganalysis': venv)",
   "language": "python",
   "name": "python3"
  },
  "language_info": {
   "codemirror_mode": {
    "name": "ipython",
    "version": 3
   },
   "file_extension": ".py",
   "mimetype": "text/x-python",
   "name": "python",
   "nbconvert_exporter": "python",
   "pygments_lexer": "ipython3",
   "version": "3.8.10"
  },
  "orig_nbformat": 4
 },
 "nbformat": 4,
 "nbformat_minor": 2
}
