{
 "cells": [
  {
   "cell_type": "code",
   "execution_count": 1,
   "metadata": {},
   "outputs": [],
   "source": [
    "import numpy as np\n",
    "import cv2 as ocv\n",
    "import scipy.stats as scs\n",
    "import matplotlib.pyplot as plt\n",
    "import cmath"
   ]
  },
  {
   "cell_type": "code",
   "execution_count": 19,
   "metadata": {},
   "outputs": [],
   "source": [
    "def countHomog(b):\n",
    "    nb = len(b)\n",
    "    y = 0\n",
    "    for i in range(1, nb):\n",
    "        y += b[i] * b [i - 1] + (1 - b[i]) * (1 - b[i - 1])\n",
    "\n",
    "    return y / nb"
   ]
  },
  {
   "cell_type": "code",
   "execution_count": 20,
   "metadata": {},
   "outputs": [],
   "source": [
    "img_r = ocv.imread(\"./pup.jpg\", ocv.IMREAD_GRAYSCALE)\n",
    "img = img_r.flatten()\n",
    "\n",
    "# LSB flip \n",
    "\n",
    "vFlip = []\n",
    "\n",
    "for i in img:\n",
    "    if i % 2 == 0:\n",
    "        vFlip.append(i-1)\n",
    "    else:\n",
    "        vFlip.append(i+1)\n",
    "\n",
    "        "
   ]
  },
  {
   "cell_type": "code",
   "execution_count": 21,
   "metadata": {},
   "outputs": [],
   "source": [
    "def ColorCut(a, x, y, z):\n",
    "    for i in range(0, len(x)):\n",
    "        if(x[i] == y or x[i] == z):\n",
    "            a.append(x[i] % 2)"
   ]
  },
  {
   "cell_type": "code",
   "execution_count": 22,
   "metadata": {},
   "outputs": [],
   "source": [
    "def quadratic_solution(a, b, c):    \n",
    "    d = (b**2) - (4 * a * c)\n",
    "    sol1 = ((-b - cmath.sqrt(d)) / (2*a))\n",
    "    sol2 = ((-b + cmath.sqrt(d)) / (2*a))\n",
    "\n",
    "    return sol2.real, sol1.real        "
   ]
  },
  {
   "cell_type": "code",
   "execution_count": 23,
   "metadata": {},
   "outputs": [],
   "source": [
    "def calcR_half(Zd):\n",
    "    result = 0\n",
    "    p = 2\n",
    "    \n",
    "    print(len(Zd))\n",
    "    for k in range(1, len(Zd)):\n",
    "        hk = 0\n",
    "\n",
    "        # pragma omp for shared(hk, result) num_threads(8) reduction(+:hk) \n",
    "        for j in range(0, len(Zd)-k):\n",
    "            hk += countHomog(Zd[j:j+k])\n",
    "        \n",
    "        result += hk/p\n",
    "        p *= 2\n",
    "\n",
    "        print(k)\n",
    "    return result\n",
    "            "
   ]
  },
  {
   "cell_type": "code",
   "execution_count": 24,
   "metadata": {},
   "outputs": [],
   "source": [
    "Z = []\n",
    "Zd = []\n",
    "Zdd = []\n",
    "\n",
    "\n",
    "for k in range(0,128):\n",
    "    ColorCut(Z, img, 2*k, 2*k+1)\n",
    "\n",
    "for k in range(0, 127):\n",
    "    ColorCut(Zd, img, 2*k + 1, 2*k + 2)\n",
    "    ColorCut(Zdd, vFlip, 2*k + 1, 2*k + 2)\n",
    "\n",
    "ColorCut(Zd, img, 255, 1)\n",
    "ColorCut(Zdd, vFlip, 255, 1)"
   ]
  },
  {
   "cell_type": "code",
   "execution_count": 25,
   "metadata": {},
   "outputs": [
    {
     "ename": "KeyboardInterrupt",
     "evalue": "",
     "output_type": "error",
     "traceback": [
      "\u001b[0;31m---------------------------------------------------------------------------\u001b[0m",
      "\u001b[0;31mKeyboardInterrupt\u001b[0m                         Traceback (most recent call last)",
      "\u001b[0;32m/tmp/ipykernel_84916/3998740067.py\u001b[0m in \u001b[0;36m<module>\u001b[0;34m\u001b[0m\n\u001b[1;32m      1\u001b[0m \u001b[0mD_Beta\u001b[0m \u001b[0;34m=\u001b[0m \u001b[0mcountHomog\u001b[0m\u001b[0;34m(\u001b[0m\u001b[0mZ\u001b[0m\u001b[0;34m)\u001b[0m \u001b[0;34m-\u001b[0m \u001b[0mcountHomog\u001b[0m\u001b[0;34m(\u001b[0m\u001b[0mZd\u001b[0m\u001b[0;34m)\u001b[0m\u001b[0;34m\u001b[0m\u001b[0;34m\u001b[0m\u001b[0m\n\u001b[1;32m      2\u001b[0m \u001b[0mD_1_Beta\u001b[0m \u001b[0;34m=\u001b[0m \u001b[0mcountHomog\u001b[0m\u001b[0;34m(\u001b[0m\u001b[0mZ\u001b[0m\u001b[0;34m)\u001b[0m \u001b[0;34m-\u001b[0m \u001b[0mcountHomog\u001b[0m\u001b[0;34m(\u001b[0m\u001b[0mZdd\u001b[0m\u001b[0;34m)\u001b[0m\u001b[0;34m\u001b[0m\u001b[0;34m\u001b[0m\u001b[0m\n\u001b[0;32m----> 3\u001b[0;31m \u001b[0mD_half\u001b[0m \u001b[0;34m=\u001b[0m \u001b[0mcalcR_half\u001b[0m\u001b[0;34m(\u001b[0m\u001b[0mZd\u001b[0m\u001b[0;34m)\u001b[0m\u001b[0;34m\u001b[0m\u001b[0;34m\u001b[0m\u001b[0m\n\u001b[0m\u001b[1;32m      4\u001b[0m \u001b[0;34m\u001b[0m\u001b[0m\n\u001b[1;32m      5\u001b[0m \u001b[0ma\u001b[0m \u001b[0;34m=\u001b[0m \u001b[0;36m4\u001b[0m\u001b[0;34m*\u001b[0m\u001b[0mD_half\u001b[0m\u001b[0;34m\u001b[0m\u001b[0;34m\u001b[0m\u001b[0m\n",
      "\u001b[0;32m/tmp/ipykernel_84916/2711022842.py\u001b[0m in \u001b[0;36mcalcR_half\u001b[0;34m(Zd)\u001b[0m\n\u001b[1;32m      4\u001b[0m         \u001b[0mhk\u001b[0m \u001b[0;34m=\u001b[0m \u001b[0;36m0\u001b[0m\u001b[0;34m\u001b[0m\u001b[0;34m\u001b[0m\u001b[0m\n\u001b[1;32m      5\u001b[0m         \u001b[0;32mfor\u001b[0m \u001b[0mj\u001b[0m \u001b[0;32min\u001b[0m \u001b[0mrange\u001b[0m\u001b[0;34m(\u001b[0m\u001b[0;36m0\u001b[0m\u001b[0;34m,\u001b[0m \u001b[0mlen\u001b[0m\u001b[0;34m(\u001b[0m\u001b[0mZd\u001b[0m\u001b[0;34m)\u001b[0m\u001b[0;34m-\u001b[0m\u001b[0mk\u001b[0m\u001b[0;34m)\u001b[0m\u001b[0;34m:\u001b[0m\u001b[0;34m\u001b[0m\u001b[0;34m\u001b[0m\u001b[0m\n\u001b[0;32m----> 6\u001b[0;31m             \u001b[0mhk\u001b[0m \u001b[0;34m+=\u001b[0m \u001b[0mcountHomog\u001b[0m\u001b[0;34m(\u001b[0m\u001b[0mZd\u001b[0m\u001b[0;34m[\u001b[0m\u001b[0mj\u001b[0m\u001b[0;34m:\u001b[0m\u001b[0mj\u001b[0m\u001b[0;34m+\u001b[0m\u001b[0mk\u001b[0m\u001b[0;34m]\u001b[0m\u001b[0;34m)\u001b[0m\u001b[0;34m\u001b[0m\u001b[0;34m\u001b[0m\u001b[0m\n\u001b[0m\u001b[1;32m      7\u001b[0m         \u001b[0mresult\u001b[0m \u001b[0;34m+=\u001b[0m \u001b[0mhk\u001b[0m\u001b[0;34m/\u001b[0m\u001b[0;36m2\u001b[0m\u001b[0;34m**\u001b[0m\u001b[0mk\u001b[0m\u001b[0;34m\u001b[0m\u001b[0;34m\u001b[0m\u001b[0m\n\u001b[1;32m      8\u001b[0m \u001b[0;34m\u001b[0m\u001b[0m\n",
      "\u001b[0;32m/tmp/ipykernel_84916/3009297164.py\u001b[0m in \u001b[0;36mcountHomog\u001b[0;34m(b)\u001b[0m\n\u001b[1;32m      3\u001b[0m     \u001b[0my\u001b[0m \u001b[0;34m=\u001b[0m \u001b[0;36m0\u001b[0m\u001b[0;34m\u001b[0m\u001b[0;34m\u001b[0m\u001b[0m\n\u001b[1;32m      4\u001b[0m     \u001b[0;32mfor\u001b[0m \u001b[0mi\u001b[0m \u001b[0;32min\u001b[0m \u001b[0mrange\u001b[0m\u001b[0;34m(\u001b[0m\u001b[0;36m1\u001b[0m\u001b[0;34m,\u001b[0m \u001b[0mnb\u001b[0m\u001b[0;34m)\u001b[0m\u001b[0;34m:\u001b[0m\u001b[0;34m\u001b[0m\u001b[0;34m\u001b[0m\u001b[0m\n\u001b[0;32m----> 5\u001b[0;31m         \u001b[0my\u001b[0m \u001b[0;34m+=\u001b[0m \u001b[0mb\u001b[0m\u001b[0;34m[\u001b[0m\u001b[0mi\u001b[0m\u001b[0;34m]\u001b[0m \u001b[0;34m*\u001b[0m \u001b[0mb\u001b[0m \u001b[0;34m[\u001b[0m\u001b[0mi\u001b[0m \u001b[0;34m-\u001b[0m \u001b[0;36m1\u001b[0m\u001b[0;34m]\u001b[0m \u001b[0;34m+\u001b[0m \u001b[0;34m(\u001b[0m\u001b[0;36m1\u001b[0m \u001b[0;34m-\u001b[0m \u001b[0mb\u001b[0m\u001b[0;34m[\u001b[0m\u001b[0mi\u001b[0m\u001b[0;34m]\u001b[0m\u001b[0;34m)\u001b[0m \u001b[0;34m*\u001b[0m \u001b[0;34m(\u001b[0m\u001b[0;36m1\u001b[0m \u001b[0;34m-\u001b[0m \u001b[0mb\u001b[0m\u001b[0;34m[\u001b[0m\u001b[0mi\u001b[0m \u001b[0;34m-\u001b[0m \u001b[0;36m1\u001b[0m\u001b[0;34m]\u001b[0m\u001b[0;34m)\u001b[0m\u001b[0;34m\u001b[0m\u001b[0;34m\u001b[0m\u001b[0m\n\u001b[0m\u001b[1;32m      6\u001b[0m \u001b[0;34m\u001b[0m\u001b[0m\n\u001b[1;32m      7\u001b[0m     \u001b[0;32mreturn\u001b[0m \u001b[0my\u001b[0m \u001b[0;34m/\u001b[0m \u001b[0mnb\u001b[0m\u001b[0;34m\u001b[0m\u001b[0;34m\u001b[0m\u001b[0m\n",
      "\u001b[0;31mKeyboardInterrupt\u001b[0m: "
     ]
    }
   ],
   "source": [
    "D_Beta = countHomog(Z) - countHomog(Zd)\n",
    "D_1_Beta = countHomog(Z) - countHomog(Zdd)\n",
    "D_half = calcR_half(Zd)\n",
    "\n",
    "a = 4*D_half \n",
    "b = D_1_Beta - D_Beta - a \n",
    "c = D_Beta\n",
    "\n",
    "betaP, betaM = quadratic_solution(a,b,c)\n",
    "\n",
    "beta =  min(betaP,betaM)\n",
    "\n",
    "print(beta)\n",
    "\n",
    "\n",
    "\n"
   ]
  },
  {
   "cell_type": "code",
   "execution_count": null,
   "metadata": {},
   "outputs": [],
   "source": []
  }
 ],
 "metadata": {
  "interpreter": {
   "hash": "2df03a46ba34d34bcfe0d8e6af5722b6891394392cd1b8bb8a82a6559cfddb36"
  },
  "kernelspec": {
   "display_name": "Python 3.8.10 64-bit ('Steganalysis': venv)",
   "name": "python3"
  },
  "language_info": {
   "codemirror_mode": {
    "name": "ipython",
    "version": 3
   },
   "file_extension": ".py",
   "mimetype": "text/x-python",
   "name": "python",
   "nbconvert_exporter": "python",
   "pygments_lexer": "ipython3",
   "version": "3.8.10"
  },
  "orig_nbformat": 4
 },
 "nbformat": 4,
 "nbformat_minor": 2
}
