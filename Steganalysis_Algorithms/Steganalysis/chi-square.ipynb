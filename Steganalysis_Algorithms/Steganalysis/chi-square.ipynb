{
 "cells": [
  {
   "cell_type": "code",
   "execution_count": 2,
   "metadata": {},
   "outputs": [],
   "source": [
    "import numpy as np\n",
    "import cv2 as ocv\n",
    "import scipy.stats as scs\n",
    "import matplotlib.pyplot as plt"
   ]
  },
  {
   "cell_type": "code",
   "execution_count": 9,
   "metadata": {},
   "outputs": [
    {
     "name": "stdout",
     "output_type": "stream",
     "text": [
      "[104 104 104 104 104 104 104 102 103 103 103 103 102 101 100 100 100 100\n",
      "  99  98  97  96  95  98  98  98  97  97  96  96  96  95  95  94  93  92\n",
      "  92  91  90  91  91  90  89  88  88  87  87  87  87  86  86  86  85  85\n",
      "  85  85  85  85  84  84  83  83  83  82  82  82  81  81  80  80  80  79\n",
      "  79  79  78  78  77  77  77  72  73  74  74  75  74  74  74  73  73  73\n",
      "  72  72  71  71  71  71  70  70  69]\n"
     ]
    }
   ],
   "source": [
    "img_r = ocv.imread(\"./pup.jpg\", ocv.IMREAD_GRAYSCALE)\n",
    "#print(img_r)\n",
    "\n",
    "img = np.ndarray.flatten(img_r)\n",
    "start = 201\n",
    "end = 300\n",
    "print(img[start:end])\n",
    "\n",
    "groupSize = 4096\n",
    "\n",
    "#print(len(img))\n",
    "\n",
    "img =  np.append(img, np.full(groupSize -  len(img) % groupSize, 0))\n",
    "\n",
    "#print(len(img))\n",
    "\n",
    "blocks = np.split(img, len(img) // groupSize)\n",
    "#print(blocks)\n",
    "\n",
    "dof = 128\n",
    "alpha = 0.05"
   ]
  },
  {
   "cell_type": "code",
   "execution_count": 66,
   "metadata": {},
   "outputs": [],
   "source": [
    "def observed(lst):\n",
    "    obs = []\n",
    "\n",
    "    for i in range(0, len(lst) - 1):\n",
    "        obs.append(lst[i]+1)\n",
    "\n",
    "    return obs"
   ]
  },
  {
   "cell_type": "code",
   "execution_count": 67,
   "metadata": {},
   "outputs": [],
   "source": [
    "def expected(lst):\n",
    "    exp = []\n",
    "\n",
    "    for i in range(0, len(lst) - 1, 2):\n",
    "        exp.append((lst[i] + lst[i + 1]) / 2)\n",
    "\n",
    "    return exp"
   ]
  },
  {
   "cell_type": "code",
   "execution_count": 90,
   "metadata": {},
   "outputs": [],
   "source": [
    "def calcChiSquare(block, size, dof):\n",
    "    #X = np.full(128, 0, dtype = 'float64')\n",
    "    #Y = np.full(128, 0, dtype = 'float64')\n",
    "\n",
    "    auxX = [0 for x in range(128)]  \n",
    "    auxY = [0 for x in range(128)]\n",
    "\n",
    "    for j in range(0, size):\n",
    "        c = block[j]\n",
    "        if(c % 2 == 0):\n",
    "            auxX[c//2] += 1\n",
    "        else:\n",
    "            auxY[c//2] += 1\n",
    "    \n",
    "    #for i in range(0, 128): \n",
    "    #    print(f'{2 * i} : {X[i]}, {2 * i + 1} = {Y[i]}')\n",
    "\n",
    "    #Z = (X + Y) / 2\n",
    "\n",
    "    X = []\n",
    "    # Y = []\n",
    "    Z = []\n",
    "    T = []\n",
    "\n",
    "    auxZ = []\n",
    "    for i in range(0, 128):\n",
    "        if(auxX[i] + auxY[i] != 0):\n",
    "            T.append(auxX[i])\n",
    "            auxZ.append((auxX[i] + auxY[i])/2)\n",
    "\n",
    "    # for i in range(0, 128):\n",
    "    #     if(X[i] + Y[i] <= 4):\n",
    "    #         X[i] = Y[i] = Z[i] = 0\n",
    "    #         dof -= 1\n",
    "\n",
    "    # for i in range(0, 128):\n",
    "    #     if(auxX[i] + auxY[i] <= 4):\n",
    "    #         dof -= 1\n",
    "    #     else:\n",
    "    #         Z.append(auxZ[i])\n",
    "    #         X.append(auxX[i])\n",
    "    #         Y.append(auxY[i])\n",
    "\n",
    "    # chi = 0\n",
    "    # for i in range(0, len(Z)):\n",
    "    #     chi += (X[i] - Z[i])**2/Z[i]\n",
    "    \n",
    "    #p = 1 - scs.chi2.cdf(chi, dof - 1)\n",
    "\n",
    "        \n",
    "    sumX = sum(T)\n",
    "    sumZ = sum(auxZ)\n",
    "\n",
    "    X = [(x/sumX) for x in T]\n",
    "    Z = [(x/sumZ) for x in auxZ]\n",
    "    \n",
    "    chi, p = scs.chisquare(X, Z)\n",
    "\n",
    "    return p"
   ]
  },
  {
   "cell_type": "code",
   "execution_count": 92,
   "metadata": {},
   "outputs": [],
   "source": [
    "img_r = ocv.imread(\"./stego_img_flwr.jpeg\", ocv.IMREAD_GRAYSCALE)\n",
    "img = np.ndarray.flatten(img_r)\n",
    "\n",
    "arr_len = len(img)"
   ]
  },
  {
   "cell_type": "code",
   "execution_count": 93,
   "metadata": {},
   "outputs": [
    {
     "name": "stdout",
     "output_type": "stream",
     "text": [
      "[0.9999999956447146, 1.0, 1.0, 1.0, 1.0, 1.0, 1.0, 1.0, 1.0, 1.0]\n"
     ]
    }
   ],
   "source": [
    "p_values = []\n",
    "for i in range(1, 101, 10):\n",
    "    size = int(arr_len * i / 100)\n",
    "    block = img[0:size]\n",
    "    p_values.append(calcChiSquare(block, size, dof))\n",
    "\n",
    "print(p_values)"
   ]
  },
  {
   "cell_type": "code",
   "execution_count": 53,
   "metadata": {},
   "outputs": [
    {
     "name": "stdout",
     "output_type": "stream",
     "text": [
      "100\n"
     ]
    }
   ],
   "source": [
    "print(len(p_values))"
   ]
  },
  {
   "cell_type": "code",
   "execution_count": 54,
   "metadata": {},
   "outputs": [
    {
     "name": "stdout",
     "output_type": "stream",
     "text": [
      "[0, 0, 0, 0, 0, 0, 0, 0, 0, 0, 0, 0, 0, 0, 0, 0, 0, 0, 0, 0, 0, 0, 0, 0, 0, 0, 0, 0, 0, 0, 0, 0, 0, 0, 0, 0, 0, 0, 0, 0, 0, 0, 0, 0, 0, 0, 0, 0, 0, 0, 0, 0, 0, 0, 0, 0, 0, 0, 0, 0, 0, 0, 0, 0, 0, 0, 0, 0, 0, 0, 0, 0, 0, 0, 0, 0, 0, 0, 0, 0, 0, 0, 0, 0, 0, 0, 0, 0, 0, 0, 0, 0, 0, 0, 0, 0, 0, 0, 0, 0]\n"
     ]
    }
   ],
   "source": [
    "check = []\n",
    "for i in range(len(p_values)):\n",
    "    check.append(int(p_values[i]))\n",
    "\n",
    "print(check)"
   ]
  },
  {
   "cell_type": "code",
   "execution_count": 55,
   "metadata": {},
   "outputs": [],
   "source": [
    "xAxis = [x for x in range(1,101)]\n",
    "yAxis = p_values"
   ]
  },
  {
   "cell_type": "code",
   "execution_count": 57,
   "metadata": {},
   "outputs": [
    {
     "data": {
      "image/png": "[encoded data removed]",
      "text/plain": [
       "<Figure size 432x288 with 1 Axes>"
      ]
     },
     "metadata": {
      "needs_background": "light"
     },
     "output_type": "display_data"
    }
   ],
   "source": [
    "plt.plot(xAxis, yAxix)\n",
    "plt.xlabel(\"Size of Samples(%)\")\n",
    "plt.ylabel(\"Probability of embedding\")\n",
    "\n",
    "plt.show()"
   ]
  },
  {
   "cell_type": "code",
   "execution_count": 4,
   "metadata": {},
   "outputs": [
    {
     "name": "stdout",
     "output_type": "stream",
     "text": [
      "0 : 0.0, 1 = 0.0\n",
      "2 : 0.0, 3 = 0.0\n",
      "4 : 0.0, 5 = 0.0\n",
      "6 : 0.0, 7 = 0.0\n",
      "8 : 0.0, 9 = 0.0\n",
      "10 : 0.0, 11 = 0.0\n",
      "12 : 0.0, 13 = 0.0\n",
      "14 : 0.0, 15 = 0.0\n",
      "16 : 0.0, 17 = 0.0\n",
      "18 : 0.0, 19 = 0.0\n",
      "20 : 0.0, 21 = 0.0\n",
      "22 : 0.0, 23 = 0.0\n",
      "24 : 0.0, 25 = 0.0\n",
      "26 : 0.0, 27 = 0.0\n",
      "28 : 0.0, 29 = 0.0\n",
      "30 : 0.0, 31 = 0.0\n",
      "32 : 0.0, 33 = 0.0\n",
      "34 : 0.0, 35 = 0.0\n",
      "36 : 0.0, 37 = 0.0\n",
      "38 : 0.0, 39 = 0.0\n",
      "40 : 0.0, 41 = 0.0\n",
      "42 : 0.0, 43 = 0.0\n",
      "44 : 0.0, 45 = 0.0\n",
      "46 : 0.0, 47 = 0.0\n",
      "48 : 0.0, 49 = 0.0\n",
      "50 : 0.0, 51 = 0.0\n",
      "52 : 0.0, 53 = 0.0\n",
      "54 : 0.0, 55 = 0.0\n",
      "56 : 0.0, 57 = 0.0\n",
      "58 : 0.0, 59 = 0.0\n",
      "60 : 2.0, 61 = 23.0\n",
      "62 : 25.0, 63 = 30.0\n",
      "64 : 36.0, 65 = 31.0\n",
      "66 : 44.0, 67 = 33.0\n",
      "68 : 46.0, 69 = 40.0\n",
      "70 : 33.0, 71 = 37.0\n",
      "72 : 39.0, 73 = 42.0\n",
      "74 : 43.0, 75 = 23.0\n",
      "76 : 10.0, 77 = 21.0\n",
      "78 : 43.0, 79 = 45.0\n",
      "80 : 48.0, 81 = 30.0\n",
      "82 : 40.0, 83 = 24.0\n",
      "84 : 26.0, 85 = 36.0\n",
      "86 : 29.0, 87 = 40.0\n",
      "88 : 32.0, 89 = 42.0\n",
      "90 : 48.0, 91 = 44.0\n",
      "92 : 52.0, 93 = 46.0\n",
      "94 : 46.0, 95 = 62.0\n",
      "96 : 53.0, 97 = 65.0\n",
      "98 : 81.0, 99 = 83.0\n",
      "100 : 75.0, 101 = 73.0\n",
      "102 : 84.0, 103 = 156.0\n",
      "104 : 195.0, 105 = 133.0\n",
      "106 : 185.0, 107 = 192.0\n",
      "108 : 289.0, 109 = 280.0\n",
      "110 : 280.0, 111 = 213.0\n",
      "112 : 152.0, 113 = 100.0\n",
      "114 : 90.0, 115 = 23.0\n",
      "116 : 2.0, 117 = 1.0\n",
      "118 : 0.0, 119 = 0.0\n",
      "120 : 0.0, 121 = 0.0\n",
      "122 : 0.0, 123 = 0.0\n",
      "124 : 0.0, 125 = 0.0\n",
      "126 : 0.0, 127 = 0.0\n",
      "128 : 0.0, 129 = 0.0\n",
      "130 : 0.0, 131 = 0.0\n",
      "132 : 0.0, 133 = 0.0\n",
      "134 : 0.0, 135 = 0.0\n",
      "136 : 0.0, 137 = 0.0\n",
      "138 : 0.0, 139 = 0.0\n",
      "140 : 0.0, 141 = 0.0\n",
      "142 : 0.0, 143 = 0.0\n",
      "144 : 0.0, 145 = 0.0\n",
      "146 : 0.0, 147 = 0.0\n",
      "148 : 0.0, 149 = 0.0\n",
      "150 : 0.0, 151 = 0.0\n",
      "152 : 0.0, 153 = 0.0\n",
      "154 : 0.0, 155 = 0.0\n",
      "156 : 0.0, 157 = 0.0\n",
      "158 : 0.0, 159 = 0.0\n",
      "160 : 0.0, 161 = 0.0\n",
      "162 : 0.0, 163 = 0.0\n",
      "164 : 0.0, 165 = 0.0\n",
      "166 : 0.0, 167 = 0.0\n",
      "168 : 0.0, 169 = 0.0\n",
      "170 : 0.0, 171 = 0.0\n",
      "172 : 0.0, 173 = 0.0\n",
      "174 : 0.0, 175 = 0.0\n",
      "176 : 0.0, 177 = 0.0\n",
      "178 : 0.0, 179 = 0.0\n",
      "180 : 0.0, 181 = 0.0\n",
      "182 : 0.0, 183 = 0.0\n",
      "184 : 0.0, 185 = 0.0\n",
      "186 : 0.0, 187 = 0.0\n",
      "188 : 0.0, 189 = 0.0\n",
      "190 : 0.0, 191 = 0.0\n",
      "192 : 0.0, 193 = 0.0\n",
      "194 : 0.0, 195 = 0.0\n",
      "196 : 0.0, 197 = 0.0\n",
      "198 : 0.0, 199 = 0.0\n",
      "200 : 0.0, 201 = 0.0\n",
      "202 : 0.0, 203 = 0.0\n",
      "204 : 0.0, 205 = 0.0\n",
      "206 : 0.0, 207 = 0.0\n",
      "208 : 0.0, 209 = 0.0\n",
      "210 : 0.0, 211 = 0.0\n",
      "212 : 0.0, 213 = 0.0\n",
      "214 : 0.0, 215 = 0.0\n",
      "216 : 0.0, 217 = 0.0\n",
      "218 : 0.0, 219 = 0.0\n",
      "220 : 0.0, 221 = 0.0\n",
      "222 : 0.0, 223 = 0.0\n",
      "224 : 0.0, 225 = 0.0\n",
      "226 : 0.0, 227 = 0.0\n",
      "228 : 0.0, 229 = 0.0\n",
      "230 : 0.0, 231 = 0.0\n",
      "232 : 0.0, 233 = 0.0\n",
      "234 : 0.0, 235 = 0.0\n",
      "236 : 0.0, 237 = 0.0\n",
      "238 : 0.0, 239 = 0.0\n",
      "240 : 0.0, 241 = 0.0\n",
      "242 : 0.0, 243 = 0.0\n",
      "244 : 0.0, 245 = 0.0\n",
      "246 : 0.0, 247 = 0.0\n",
      "248 : 0.0, 249 = 0.0\n",
      "250 : 0.0, 251 = 0.0\n",
      "252 : 0.0, 253 = 0.0\n",
      "254 : 0.0, 255 = 0.0\n"
     ]
    },
    {
     "data": {
      "text/plain": [
       "9.491895193725064e-06"
      ]
     },
     "execution_count": 4,
     "metadata": {},
     "output_type": "execute_result"
    }
   ],
   "source": [
    "#l = []\n",
    "#for block in blocks:\n",
    "#    p = calcChiSquare(block, groupSize, dof)\n",
    "\n",
    "#    l.append(p)\n",
    "\n",
    "#sum(l)/len(l)\n",
    "toconsider = 0\n",
    "for i in range(len(img)+1):\n",
    "    \n",
    "    toconsider = (0.1)*len(img)*(i+1)\n",
    "\n",
    "calcChiSquare(blocks[0], groupSize, dof)"
   ]
  },
  {
   "cell_type": "code",
   "execution_count": 5,
   "metadata": {},
   "outputs": [],
   "source": [
    "\n",
    "\n",
    "# for i in range(0, img_height):\n",
    "#     for j in range(0, img_width):\n",
    "#         c = img[i, j]\n",
    "#         if(img[i, j] % 2 == 0):\n",
    "#             X[c//2] += 1\n",
    "#         else:\n",
    "#             Y[c//2] += 1\n",
    "\n",
    "# chi = sum((X - Z)**2./Z)\n",
    "\n",
    "# Z = (X + Y) / 2\n",
    "\n",
    "# for i in range(0, 128):\n",
    "#     if(X[i] + Y[i] <= 4):\n",
    "#         X[i] = Y[i] = Z[i] = 0\n",
    "#         dof -= 1\n",
    "\n",
    "# criticalValue = scs.chi2.ppf(1 - alpha, dof)\n",
    "# print(sum(X), sum(Z), dof, criticalValue)\n",
    "\n",
    "# print(not (chi >= criticalValue))"
   ]
  }
 ],
 "metadata": {
  "interpreter": {
   "hash": "2df03a46ba34d34bcfe0d8e6af5722b6891394392cd1b8bb8a82a6559cfddb36"
  },
  "kernelspec": {
   "display_name": "Python 3.8.10 64-bit ('Steganalysis': venv)",
   "name": "python3"
  },
  "language_info": {
   "codemirror_mode": {
    "name": "ipython",
    "version": 3
   },
   "file_extension": ".py",
   "mimetype": "text/x-python",
   "name": "python",
   "nbconvert_exporter": "python",
   "pygments_lexer": "ipython3",
   "version": "3.8.10"
  },
  "orig_nbformat": 4
 },
 "nbformat": 4,
 "nbformat_minor": 2
}
